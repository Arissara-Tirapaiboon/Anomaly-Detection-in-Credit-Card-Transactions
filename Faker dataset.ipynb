{
  "cells": [
    {
      "cell_type": "code",
      "execution_count": 2,
      "metadata": {
        "colab": {
          "base_uri": "https://localhost:8080/"
        },
        "id": "irrZmgKvX87r",
        "outputId": "506b5bd6-b3c9-482f-8f5e-d954e354cff2"
      },
      "outputs": [
        {
          "name": "stdout",
          "output_type": "stream",
          "text": [
            "Collecting Faker\n",
            "  Downloading Faker-22.7.0-py3-none-any.whl (1.7 MB)\n",
            "\u001b[2K     \u001b[90m━━━━━━━━━━━━━━━━━━━━━━━━━━━━━━━━━━━━━━━━\u001b[0m \u001b[32m1.7/1.7 MB\u001b[0m \u001b[31m9.2 MB/s\u001b[0m eta \u001b[36m0:00:00\u001b[0m\n",
            "\u001b[?25hRequirement already satisfied: python-dateutil>=2.4 in /usr/local/lib/python3.10/dist-packages (from Faker) (2.8.2)\n",
            "Requirement already satisfied: six>=1.5 in /usr/local/lib/python3.10/dist-packages (from python-dateutil>=2.4->Faker) (1.16.0)\n",
            "Installing collected packages: Faker\n",
            "Successfully installed Faker-22.7.0\n"
          ]
        }
      ],
      "source": [
        "!pip install Faker"
      ]
    },
    {
      "cell_type": "code",
      "execution_count": 6,
      "metadata": {
        "id": "UEgYnjPCYCjE"
      },
      "outputs": [],
      "source": [
        "from faker import Faker\n",
        "import random\n",
        "import csv\n",
        "import pandas as pd"
      ]
    },
    {
      "cell_type": "code",
      "execution_count": 16,
      "metadata": {
        "colab": {
          "base_uri": "https://localhost:8080/"
        },
        "id": "dsokH-3Ba-kq",
        "outputId": "75950fe4-adab-480c-d710-de9d1fe3ec80"
      },
      "outputs": [
        {
          "name": "stdout",
          "output_type": "stream",
          "text": [
            "Dataset generated successfully!\n"
          ]
        }
      ],
      "source": [
        "# Create Faker instance\n",
        "fake = Faker()\n",
        "\n",
        "# Open a CSV file in write mode\n",
        "with open('transactions.csv', 'w', newline='', encoding='utf-8') as csvfile:\n",
        "    fieldnames = ['txnNumber', 'merchantId', 'b2kId', 'merchantName', 'orderNumber', 'customerId', \n",
        "                  'amount', 'currency', 'userData', 'statusCode', 'errorCode', 'settlementMode', \n",
        "                  'isReadyForSettle', 'orderDatetime', 'settlementDateTime', 'settlementCurrency', \n",
        "                  'settlementAmount', 'cardNumber', 'cardExpiryMonth', 'cardExpiryYear', 'cardType', \n",
        "                  'cardHolderFirstName', 'cardHolderLastName', 'cardCountry', 'isTransaction3ds', 'xid', \n",
        "                  'cavv', 'eci', 'eciSpa', 'ucaf', 'dsTransId', 'descriptionToMpi', 'isInstallment', \n",
        "                  'ippPlanName', 'ippMonth', 'ippAmount', 'ippTotalInterest', 'ippRate', 'merIntRate', \n",
        "                  'isRefund', 'originalTxnNumber', 'remainingAmount', 'dateSettlement', 'networkDataLength', \n",
        "                  'networkData', 'approveCode', 'b2kReferenceNo', 'b2kTraceNo', 'b2kTranDateTime', \n",
        "                  'onlineFlag', 'settlementDayType', 'manualSettleWaitingDay', 'actionOverWaitingDay', \n",
        "                  'microFilm', 'legoToken', 'posEntryMode', 'threeDsServerTransId', 'threeDsStatus', \n",
        "                  'tempChallenge', 'frontendReturnUrl', 'encryptedCardData', 'dekIndex', 'isSurcharge', \n",
        "                  'feeAmount', 'vatAmount', 'isMdes', 'isAuthMdes', 'recurringRef', 'recurringflag', \n",
        "                  'surchargeEmail', 'createdDateTime', 'updatedDateTime', 'onlineDateTime', 'lockFlag', \n",
        "                  'dsrpCryptogram', 'dccReference', 'dccOriExRate', 'dccMerchantExRate', 'dccRebatePercent', \n",
        "                  'dccRebateAmt', 'isDcc', 'originalTranCurrency', 'originalTranAmount', 'ippType', \n",
        "                  'ippProductCode', 'manualSettlementDateTime', 'originalHomeAmount']\n",
        "\n",
        "    writer = csv.DictWriter(csvfile, fieldnames=fieldnames)\n",
        "\n",
        "    # Write header\n",
        "    writer.writeheader()\n",
        "\n",
        "    # Generate 10,000 transactions\n",
        "    for i in range(10000):\n",
        "        writer.writerow({'txnNumber': fake.uuid4(),\n",
        "                         'merchantId': fake.uuid4(),\n",
        "                         'b2kId': fake.uuid4(),\n",
        "                         'merchantName': fake.company(),\n",
        "                         'orderNumber': fake.uuid4(),\n",
        "                         'customerId': fake.uuid4(),\n",
        "                         'amount': round(random.uniform(1, 1000), 2),\n",
        "                         'currency': 'THB',\n",
        "                         'userData': fake.text(),\n",
        "                         'statusCode': random.randint(100, 999),\n",
        "                         'errorCode': random.choice([None, fake.uuid4()]),\n",
        "                         'settlementMode': random.choice(['Cash', 'Credit', 'Debit']),\n",
        "                         'isReadyForSettle': random.choice([True, False]),\n",
        "                         'orderDatetime': fake.date_time_this_year(),\n",
        "                         'settlementDateTime': fake.date_time_this_year(),\n",
        "                         'settlementCurrency': fake.currency_code(),\n",
        "                         'settlementAmount': round(random.uniform(1, 1000), 2),\n",
        "                         'cardNumber': fake.credit_card_number(),\n",
        "                         'cardExpiryMonth': fake.credit_card_expire().split('/')[0],\n",
        "                         'cardExpiryYear': fake.credit_card_expire().split('/')[1],\n",
        "                         'cardType': random.choice(['Visa', 'MasterCard', 'American Express']),\n",
        "                         'cardHolderFirstName': fake.first_name(),\n",
        "                         'cardHolderLastName': fake.last_name(),\n",
        "                         'cardCountry': 'Thailand',\n",
        "                         'isTransaction3ds': random.choice([True, False]),\n",
        "                         'xid': fake.uuid4(),\n",
        "                         'cavv': fake.uuid4(),\n",
        "                         'eci': random.randint(0, 10),\n",
        "                         'eciSpa': random.randint(0, 10),\n",
        "                         'ucaf': fake.uuid4(),\n",
        "                         'dsTransId': fake.uuid4(),\n",
        "                         'descriptionToMpi': fake.text(),\n",
        "                         'isInstallment': random.choice([True, False]),\n",
        "                         'ippPlanName': fake.text(),\n",
        "                         'ippMonth': random.randint(1, 12),\n",
        "                         'ippAmount': round(random.uniform(1, 1000), 2),\n",
        "                         'ippTotalInterest': round(random.uniform(1, 1000), 2),\n",
        "                         'ippRate': round(random.uniform(1, 10), 2),\n",
        "                         'merIntRate': round(random.uniform(1, 10), 2),\n",
        "                         'isRefund': random.choice([True, False]),\n",
        "                         'originalTxnNumber': fake.uuid4(),\n",
        "                         'remainingAmount': round(random.uniform(1, 1000), 2),\n",
        "                         'dateSettlement': fake.date_time_this_year(),\n",
        "                         'networkDataLength': random.randint(10, 100),\n",
        "                         'networkData': fake.text(),\n",
        "                         'approveCode': fake.uuid4(),\n",
        "                         'b2kReferenceNo': fake.uuid4(),\n",
        "                         'b2kTraceNo': fake.uuid4(),\n",
        "                         'b2kTranDateTime': fake.date_time_this_year(),\n",
        "                         'onlineFlag': random.choice([True, False]),\n",
        "                         'settlementDayType': random.choice(['Business', 'Calendar']),\n",
        "                         'manualSettleWaitingDay': random.randint(1, 30),\n",
        "                         'actionOverWaitingDay': random.randint(1, 30),\n",
        "                         'microFilm': random.choice([True, False]),\n",
        "                         'legoToken': fake.uuid4(),\n",
        "                         'posEntryMode': fake.credit_card_security_code(),\n",
        "                         'threeDsServerTransId': fake.uuid4(),\n",
        "                         'threeDsStatus': random.choice(['Y', 'N', 'U']),\n",
        "                         'tempChallenge': random.choice([True, False]),\n",
        "                         'frontendReturnUrl': fake.uri(),\n",
        "                         'encryptedCardData': fake.uuid4(),\n",
        "                         'dekIndex': fake.uuid4(),\n",
        "                         'isSurcharge': random.choice([True, False]),\n",
        "                         'feeAmount': round(random.uniform(1, 100), 2),\n",
        "                         'vatAmount': round(random.uniform(1, 100), 2),\n",
        "                         'isMdes': random.choice([True, False]),\n",
        "                         'isAuthMdes': random.choice([True, False]),\n",
        "                         'recurringRef': fake.uuid4(),\n",
        "                         'recurringflag': random.choice([True, False]),\n",
        "                         'surchargeEmail': fake.email(),\n",
        "                         'createdDateTime': fake.date_time_this_year(),\n",
        "                         'updatedDateTime': fake.date_time_this_year(),\n",
        "                         'onlineDateTime': fake.date_time_this_year(),\n",
        "                         'lockFlag': random.choice([True, False]),\n",
        "                         'dsrpCryptogram': fake.uuid4(),\n",
        "                         'dccReference': fake.uuid4(),\n",
        "                         'dccOriExRate': round(random.uniform(1, 10), 2),\n",
        "                         'dccMerchantExRate': round(random.uniform(1, 10), 2),\n",
        "                         'dccRebatePercent': round(random.uniform(0, 5), 2),\n",
        "                         'dccRebateAmt': round(random.uniform(1, 100), 2),\n",
        "                         'isDcc': random.choice([True, False]),\n",
        "                         'originalTranCurrency': 'THB',\n",
        "                         'originalTranAmount': round(random.uniform(1, 1000), 2),\n",
        "                         'ippType': random.choice(['Fixed', 'Dynamic']),\n",
        "                         'ippProductCode': fake.uuid4(),\n",
        "                         'manualSettlementDateTime': fake.date_time_this_year(),\n",
        "                         'originalHomeAmount': round(random.uniform(1, 1000), 2)})\n",
        "        \n",
        "print(\"Dataset generated successfully!\")"
      ]
    },
    {
      "cell_type": "code",
      "execution_count": 2,
      "metadata": {},
      "outputs": [
        {
          "ename": "NameError",
          "evalue": "name 'pd' is not defined",
          "output_type": "error",
          "traceback": [
            "\u001b[1;31m---------------------------------------------------------------------------\u001b[0m",
            "\u001b[1;31mNameError\u001b[0m                                 Traceback (most recent call last)",
            "\u001b[1;32mc:\\Users\\t700163\\Downloads\\Welcome_To_Colaboratory.ipynb Cell 4\u001b[0m line \u001b[0;36m2\n\u001b[0;32m      <a href='vscode-notebook-cell:/c%3A/Users/t700163/Downloads/Welcome_To_Colaboratory.ipynb#X26sZmlsZQ%3D%3D?line=0'>1</a>\u001b[0m \u001b[39m# Load the CSV file into a DataFrame\u001b[39;00m\n\u001b[1;32m----> <a href='vscode-notebook-cell:/c%3A/Users/t700163/Downloads/Welcome_To_Colaboratory.ipynb#X26sZmlsZQ%3D%3D?line=1'>2</a>\u001b[0m df \u001b[39m=\u001b[39m pd\u001b[39m.\u001b[39mread_csv(\u001b[39m'\u001b[39m\u001b[39mthailand_credit_card_transactions.csv\u001b[39m\u001b[39m'\u001b[39m)\n\u001b[0;32m      <a href='vscode-notebook-cell:/c%3A/Users/t700163/Downloads/Welcome_To_Colaboratory.ipynb#X26sZmlsZQ%3D%3D?line=3'>4</a>\u001b[0m \u001b[39m# Display the first few rows of the DataFrame\u001b[39;00m\n\u001b[0;32m      <a href='vscode-notebook-cell:/c%3A/Users/t700163/Downloads/Welcome_To_Colaboratory.ipynb#X26sZmlsZQ%3D%3D?line=4'>5</a>\u001b[0m df\u001b[39m.\u001b[39mhead()\n",
            "\u001b[1;31mNameError\u001b[0m: name 'pd' is not defined"
          ]
        }
      ],
      "source": [
        "# Load the CSV file into a DataFrame\n",
        "df = pd.read_csv('transactions.csv')\n",
        "\n",
        "# Display the first few rows of the DataFrame\n",
        "df.head()"
      ]
    },
    {
      "cell_type": "code",
      "execution_count": 1,
      "metadata": {
        "colab": {
          "base_uri": "https://localhost:8080/",
          "height": 706
        },
        "id": "H4XXI14GbUnq",
        "outputId": "41f1e2fc-c24a-43ae-cbd3-ae29868e19d9"
      },
      "outputs": [
        {
          "ename": "NameError",
          "evalue": "name 'pd' is not defined",
          "output_type": "error",
          "traceback": [
            "\u001b[1;31m---------------------------------------------------------------------------\u001b[0m",
            "\u001b[1;31mNameError\u001b[0m                                 Traceback (most recent call last)",
            "\u001b[1;32mc:\\Users\\t700163\\Downloads\\Welcome_To_Colaboratory.ipynb Cell 5\u001b[0m line \u001b[0;36m2\n\u001b[0;32m      <a href='vscode-notebook-cell:/c%3A/Users/t700163/Downloads/Welcome_To_Colaboratory.ipynb#X25sZmlsZQ%3D%3D?line=0'>1</a>\u001b[0m \u001b[39m# Load the CSV file into a DataFrame\u001b[39;00m\n\u001b[1;32m----> <a href='vscode-notebook-cell:/c%3A/Users/t700163/Downloads/Welcome_To_Colaboratory.ipynb#X25sZmlsZQ%3D%3D?line=1'>2</a>\u001b[0m df \u001b[39m=\u001b[39m pd\u001b[39m.\u001b[39mread_csv(\u001b[39m'\u001b[39m\u001b[39mthailand_credit_card_transactions.csv\u001b[39m\u001b[39m'\u001b[39m)\n\u001b[0;32m      <a href='vscode-notebook-cell:/c%3A/Users/t700163/Downloads/Welcome_To_Colaboratory.ipynb#X25sZmlsZQ%3D%3D?line=3'>4</a>\u001b[0m \u001b[39m# Display the first few rows of the DataFrame\u001b[39;00m\n\u001b[0;32m      <a href='vscode-notebook-cell:/c%3A/Users/t700163/Downloads/Welcome_To_Colaboratory.ipynb#X25sZmlsZQ%3D%3D?line=4'>5</a>\u001b[0m df\u001b[39m.\u001b[39mhead()\n",
            "\u001b[1;31mNameError\u001b[0m: name 'pd' is not defined"
          ]
        }
      ],
      "source": [
        "# Move the generated CSV file to the Downloads folder\n",
        "!mv thailand_credit_card_transactions.csv /content/\n",
        "\n",
        "# Provide a download link for the file\n",
        "from google.colab import files\n",
        "files.download('/content/transactions.csv')"
      ]
    }
  ],
  "metadata": {
    "colab": {
      "name": "Welcome To Colaboratory",
      "provenance": [],
      "toc_visible": true
    },
    "kernelspec": {
      "display_name": "Python 3",
      "name": "python3"
    },
    "language_info": {
      "codemirror_mode": {
        "name": "ipython",
        "version": 3
      },
      "file_extension": ".py",
      "mimetype": "text/x-python",
      "name": "python",
      "nbconvert_exporter": "python",
      "pygments_lexer": "ipython3",
      "version": "3.10.6"
    }
  },
  "nbformat": 4,
  "nbformat_minor": 0
}
